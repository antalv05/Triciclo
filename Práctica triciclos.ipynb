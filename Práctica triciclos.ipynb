{
 "cells": [
  {
   "cell_type": "markdown",
   "metadata": {},
   "source": [
    "# <center>  PRÁCTICA: TRICICLOS EN UN GRAFO \n",
    "<center> Antonio Fco. Álvarez Gómez"
   ]
  },
  {
   "cell_type": "code",
   "execution_count": 1,
   "metadata": {},
   "outputs": [],
   "source": [
    "#pip install --user decorator==4.3.0"
   ]
  },
  {
   "cell_type": "markdown",
   "metadata": {},
   "source": [
    "### 1.  Triciclos ( 3-ciclos )\n",
    "Los triciclos, o más formalmente 3-ciclos, son un elemento básico en el análisis de grafos y subgrafos. Los 3-ciclos muestran una relación estrecha entre 3 entidades (vértices): cada uno de los vértices está relacionado (tiene aristas) con los otros dos.\n",
    "\n",
    "Escribe un programa paralelo que calcule los 3-ciclos de un grafo denido como lista de aristas."
   ]
  },
  {
   "cell_type": "code",
   "execution_count": 1,
   "metadata": {},
   "outputs": [],
   "source": [
    "from pyspark import SparkContext\n",
    "sc = SparkContext()"
   ]
  },
  {
   "cell_type": "markdown",
   "metadata": {},
   "source": [
    "Se crea la función auxiliar get_edges, que ordena un par de vértices de forma lexicográfica. Si fueran iguales devolvería None."
   ]
  },
  {
   "cell_type": "code",
   "execution_count": 2,
   "metadata": {},
   "outputs": [],
   "source": [
    "def get_edges(line):\n",
    "    edge = line.strip().split(',')\n",
    "    n1 = edge[0]\n",
    "    n2 = edge[1]\n",
    "    if n1 < n2:\n",
    "         return (n1,n2)\n",
    "    elif n1 > n2:\n",
    "         return (n2,n1)"
   ]
  },
  {
   "cell_type": "code",
   "execution_count": 3,
   "metadata": {},
   "outputs": [],
   "source": [
    "import networkx as nx\n",
    "from networkx.drawing.nx_pylab import draw"
   ]
  },
  {
   "cell_type": "markdown",
   "metadata": {},
   "source": [
    "La función read_graph abre un fichero y devuelve el grafo de este."
   ]
  },
  {
   "cell_type": "code",
   "execution_count": 4,
   "metadata": {},
   "outputs": [],
   "source": [
    "def read_graph(filename):\n",
    "    graph = nx.Graph()\n",
    "    with open(filename) as f:\n",
    "        for line in f:\n",
    "            graph.add_edge(*line.strip().split(','))\n",
    "    return graph"
   ]
  },
  {
   "cell_type": "markdown",
   "metadata": {},
   "source": [
    "**Ejemplo:** Consideremos el siguiente grafo: "
   ]
  },
  {
   "cell_type": "code",
   "execution_count": 5,
   "metadata": {},
   "outputs": [
    {
     "data": {
      "image/png": "[encoded data removed]",
      "text/plain": [
       "<Figure size 432x288 with 1 Axes>"
      ]
     },
     "metadata": {},
     "output_type": "display_data"
    }
   ],
   "source": [
    "g = read_graph(\"triciclos.txt\")\n",
    "draw(g, with_labels=True)"
   ]
  },
  {
   "cell_type": "markdown",
   "metadata": {},
   "source": [
    "Un posible conjunto de aristas que lo den es:\n",
    "\n",
    "<center> {(B, B), (B, A), (C, A), (A, B), (A, D), (B, C), (F, A), (F, D)} \n",
    "    \n",
    "y el conjunto de los 3-ciclos del grafo son:\n",
    "    \n",
    "<center>  {(A, B, C), (D, A, F )}"
   ]
  },
  {
   "cell_type": "code",
   "execution_count": 6,
   "metadata": {},
   "outputs": [
    {
     "data": {
      "text/plain": [
       "('a', 'b')"
      ]
     },
     "execution_count": 6,
     "metadata": {},
     "output_type": "execute_result"
    }
   ],
   "source": [
    "linea = \"b,a\"\n",
    "get_edges(linea)"
   ]
  },
  {
   "cell_type": "markdown",
   "metadata": {},
   "source": [
    "La función get_rdd_distict_edges aplica la función get_edges a un grafo entero y así se detectan las que estén repetidas o las que sean un nodo en sí mismo y se eliminan."
   ]
  },
  {
   "cell_type": "code",
   "execution_count": 7,
   "metadata": {},
   "outputs": [],
   "source": [
    "def get_rdd_distict_edges(sc, filename):\n",
    "    return sc.textFile(filename).\\\n",
    "        map(get_edges).\\\n",
    "        filter(lambda x: x is not None).\\\n",
    "        distinct()"
   ]
  },
  {
   "cell_type": "markdown",
   "metadata": {},
   "source": [
    "La función aristas recibe una lista de índices con sus adyacentes y para cada nodo va generando las aristas que ve que existen porque entre nodos adyacentes hay una arista y luego recorre los adyacentes de ese mismo nodo y las posibles aristas que formarían entre sí las etiqueta como pending. Si existiera, se tendría el triángulo buscado."
   ]
  },
  {
   "cell_type": "code",
   "execution_count": 8,
   "metadata": {},
   "outputs": [],
   "source": [
    "def aristas_(vertices_adyacentes):\n",
    "    vertices,adyacentes = vertices_adyacentes\n",
    "    adyacentes = list(adyacentes)\n",
    "    aristas = []\n",
    "    for adyacente in adyacentes:\n",
    "        aristas.append(((vertices,adyacente),'exists'))\n",
    "        for otros_adyacentes in adyacentes:\n",
    "            if adyacente < otros_adyacentes:\n",
    "                aristas.append(((adyacente,otros_adyacentes),('pending', vertices)))\n",
    "    return aristas"
   ]
  },
  {
   "cell_type": "code",
   "execution_count": 9,
   "metadata": {},
   "outputs": [
    {
     "data": {
      "text/plain": [
       "[(('A', 'B'), 'exists'),\n",
       " (('B', 'D'), ('pending', 'A')),\n",
       " (('B', 'F'), ('pending', 'A')),\n",
       " (('B', 'C'), ('pending', 'A')),\n",
       " (('A', 'D'), 'exists'),\n",
       " (('D', 'F'), ('pending', 'A')),\n",
       " (('A', 'F'), 'exists'),\n",
       " (('A', 'C'), 'exists'),\n",
       " (('C', 'D'), ('pending', 'A')),\n",
       " (('C', 'F'), ('pending', 'A'))]"
      ]
     },
     "execution_count": 9,
     "metadata": {},
     "output_type": "execute_result"
    }
   ],
   "source": [
    "pista = ('A',['B', 'D', 'F', 'C'])\n",
    "aristas_(pista)"
   ]
  },
  {
   "cell_type": "markdown",
   "metadata": {},
   "source": [
    "Se buscan ahora tres nodos adyacentes y formen aristas dos a dos."
   ]
  },
  {
   "cell_type": "code",
   "execution_count": 10,
   "metadata": {
    "scrolled": true
   },
   "outputs": [],
   "source": [
    "def triangulos_(arista_etiquetas):\n",
    "    arista, etiquetas = arista_etiquetas\n",
    "    etiquetas = list(etiquetas)\n",
    "    triangulos = []\n",
    "    if 'exists' in etiquetas:\n",
    "        for etiqueta in etiquetas:\n",
    "            if etiqueta != 'exists' and etiqueta[0] == 'pending':\n",
    "                triangulos.append(('triangulo', sorted([arista[0], arista[1], etiqueta[1]])))\n",
    "\n",
    "    return triangulos\n"
   ]
  },
  {
   "cell_type": "markdown",
   "metadata": {},
   "source": [
    "Se hace la función que de la lista de triciclos de un grafo determinado.\n",
    "\n",
    "Se obtiene la lista de nodos con sus subyacentes, se etiqueta con aristas, se agrupan para no tener las aristas repetidas y se agrupan las etiquetas de cada una. Después, se ve cuáles forman un triángulo y se sacan los triángulos y el número de estos."
   ]
  },
  {
   "cell_type": "code",
   "execution_count": 11,
   "metadata": {},
   "outputs": [],
   "source": [
    "def triangulos1(sc,filename):\n",
    "    nodes = get_rdd_distict_edges(sc, filename)\n",
    "    adj = nodes.groupByKey()\n",
    "    \n",
    "    rdd_etiquetas_aristas = adj.\\\n",
    "        flatMap(aristas_).\\\n",
    "        groupByKey()\n",
    "    \n",
    "    rdd_triangulos = rdd_etiquetas_aristas.flatMap(triangulos_)\n",
    "    \n",
    "    for triangulo in rdd_triangulos.collect():\n",
    "        print(triangulo)\n",
    "        \n",
    "        \n",
    "    print(\"Número de triángulos: \" + str(rdd_triangulos.count()))\n"
   ]
  },
  {
   "cell_type": "code",
   "execution_count": 12,
   "metadata": {},
   "outputs": [
    {
     "name": "stdout",
     "output_type": "stream",
     "text": [
      "('triangulo', ['A', 'B', 'C'])\n",
      "Número de triángulos: 1\n"
     ]
    }
   ],
   "source": [
    "triangulos1(sc,'g0.txt')"
   ]
  },
  {
   "cell_type": "code",
   "execution_count": 13,
   "metadata": {},
   "outputs": [
    {
     "name": "stdout",
     "output_type": "stream",
     "text": [
      "('triangulo', ['I', 'J', 'K'])\n",
      "('triangulo', ['M', 'N', 'O'])\n",
      "('triangulo', ['Q', 'R', 'S'])\n",
      "('triangulo', ['C', 'D', 'E'])\n",
      "('triangulo', ['O', 'P', 'Q'])\n",
      "('triangulo', ['S', 'T', 'U'])\n",
      "('triangulo', ['W', 'X', 'Y'])\n",
      "('triangulo', ['A', 'Y', 'Z'])\n",
      "('triangulo', ['E', 'F', 'G'])\n",
      "('triangulo', ['G', 'H', 'I'])\n",
      "('triangulo', ['K', 'L', 'M'])\n",
      "('triangulo', ['A', 'B', 'C'])\n",
      "('triangulo', ['U', 'V', 'W'])\n",
      "Número de triángulos: 13\n"
     ]
    }
   ],
   "source": [
    "triangulos1(sc,'g2.txt')"
   ]
  },
  {
   "cell_type": "markdown",
   "metadata": {},
   "source": [
    "###  2. Datos en múltiples ficheros\n",
    "Considera que los datos, es decir, la lista de las aristas, no se encuentran en un único chero sino en muchos.\n",
    "\n",
    "Escribe un programa paralelo que calcule los 3-ciclos de un grafo que se encuentra denido en múltiples cheros de entrada."
   ]
  },
  {
   "cell_type": "markdown",
   "metadata": {},
   "source": [
    "Se unen los ficheros de una lista dada."
   ]
  },
  {
   "cell_type": "code",
   "execution_count": 14,
   "metadata": {},
   "outputs": [],
   "source": [
    "def unir_ficheros(filename_list):\n",
    "        data = sc.emptyRDD()\n",
    "        for filename in filename_list:\n",
    "            data = data.union(sc.textFile(filename))\n",
    "        return data.collect()    "
   ]
  },
  {
   "cell_type": "markdown",
   "metadata": {},
   "source": [
    "Para ver si funciona, se separa el fichero g2.txt en otros dos (g2.1.txt' y g2.2.txt). "
   ]
  },
  {
   "cell_type": "code",
   "execution_count": 15,
   "metadata": {
    "scrolled": true
   },
   "outputs": [
    {
     "data": {
      "text/plain": [
       "['A,B',\n",
       " 'B,C',\n",
       " 'C,D',\n",
       " 'D,E',\n",
       " 'E,F',\n",
       " 'F,G',\n",
       " 'G,H',\n",
       " 'H,I',\n",
       " 'I,J',\n",
       " 'J,K',\n",
       " 'K,L',\n",
       " 'L,M',\n",
       " 'M,N',\n",
       " 'N,O',\n",
       " 'O,P',\n",
       " 'P,Q',\n",
       " 'Q,R',\n",
       " 'R,S',\n",
       " 'S,T',\n",
       " 'T,U',\n",
       " 'U,V',\n",
       " 'V,W',\n",
       " 'W,X',\n",
       " 'X,Y',\n",
       " 'Y,Z',\n",
       " 'Z,A',\n",
       " 'A,C',\n",
       " 'C,E',\n",
       " 'E,G',\n",
       " 'G,I',\n",
       " 'I,K',\n",
       " 'K,M',\n",
       " 'M,O',\n",
       " 'O,Q',\n",
       " 'Q,S',\n",
       " 'S,U',\n",
       " 'U,W',\n",
       " 'W,Y',\n",
       " 'Y,A']"
      ]
     },
     "execution_count": 15,
     "metadata": {},
     "output_type": "execute_result"
    }
   ],
   "source": [
    "lista_ficheros = ['g2.1.txt','g2.2.txt']\n",
    "unir_ficheros(lista_ficheros)"
   ]
  },
  {
   "cell_type": "markdown",
   "metadata": {},
   "source": [
    "Se crea una nueva versión de la función para sacar los triángulos."
   ]
  },
  {
   "cell_type": "code",
   "execution_count": 16,
   "metadata": {},
   "outputs": [],
   "source": [
    "def edges_unir(sc,filename_list):\n",
    "    data = sc.emptyRDD()\n",
    "    for filename in filename_list:\n",
    "        data = data.union(sc.textFile(filename))\n",
    "        #return data.collect()  \n",
    "    return data.map(get_edges).filter(lambda x: x is not None).distinct()\n",
    "        "
   ]
  },
  {
   "cell_type": "code",
   "execution_count": 17,
   "metadata": {},
   "outputs": [],
   "source": [
    "def triangulos2(sc,filename_list):\n",
    "    nodes = edges_unir(sc,filename_list)\n",
    "    adj = nodes.groupByKey()\n",
    "    \n",
    "    rdd_etiquetas_aristas = adj.\\\n",
    "        flatMap(aristas_).\\\n",
    "        groupByKey()\n",
    "    \n",
    "    rdd_triangulos = rdd_etiquetas_aristas.flatMap(triangulos_)\n",
    "    \n",
    "    for triangulo in rdd_triangulos.collect():\n",
    "        print(triangulo)\n",
    "        \n",
    "        \n",
    "    print(\"Número de triángulos :\" + str(rdd_triangulos.count()))\n",
    "    "
   ]
  },
  {
   "cell_type": "code",
   "execution_count": 18,
   "metadata": {},
   "outputs": [
    {
     "name": "stdout",
     "output_type": "stream",
     "text": [
      "('triangulo', ['A', 'Y', 'Z'])\n",
      "('triangulo', ['S', 'T', 'U'])\n",
      "('triangulo', ['C', 'D', 'E'])\n",
      "('triangulo', ['W', 'X', 'Y'])\n",
      "('triangulo', ['K', 'L', 'M'])\n",
      "('triangulo', ['A', 'B', 'C'])\n",
      "('triangulo', ['O', 'P', 'Q'])\n",
      "('triangulo', ['I', 'J', 'K'])\n",
      "('triangulo', ['M', 'N', 'O'])\n",
      "('triangulo', ['Q', 'R', 'S'])\n",
      "('triangulo', ['E', 'F', 'G'])\n",
      "('triangulo', ['G', 'H', 'I'])\n",
      "('triangulo', ['U', 'V', 'W'])\n",
      "Número de triángulos :13\n"
     ]
    }
   ],
   "source": [
    "lista_ficheros = ['g2.1.txt','g2.2.txt']\n",
    "triangulos2(sc,lista_ficheros)"
   ]
  },
  {
   "cell_type": "markdown",
   "metadata": {},
   "source": [
    "### 3. 3-ciclos locales\n",
    "Supongamos que los datos del grafo se encuentran repartidos en múltiples cheros. Queremos calcular los 3-ciclos, pero sólamente aquellos que sean locales a cada uno de los cheros.\n",
    "\n",
    "Escribe un programa paralelo que calcule independientemente los 3-ciclos de cada uno de los cheros de entrada."
   ]
  },
  {
   "cell_type": "markdown",
   "metadata": {},
   "source": [
    "Se crea una nueva versión para sacar los triángulos cuando los datos están en múltiples ficheros."
   ]
  },
  {
   "cell_type": "code",
   "execution_count": 19,
   "metadata": {},
   "outputs": [],
   "source": [
    "def triangulos_mult_ficheros(sc,filename_list):\n",
    "    triangulos = []\n",
    "    for filename in filename_list:\n",
    "        print ('En ' + filename + ' tenemos estos 3-ciclos:')\n",
    "        triangulos = triangulos1(sc,filename)"
   ]
  },
  {
   "cell_type": "code",
   "execution_count": 20,
   "metadata": {},
   "outputs": [
    {
     "name": "stdout",
     "output_type": "stream",
     "text": [
      "En g0.txt tenemos estos 3-ciclos:\n",
      "('triangulo', ['A', 'B', 'C'])\n",
      "Número de triángulos: 1\n",
      "En g1.txt tenemos estos 3-ciclos:\n",
      "('triangulo', ['A', 'B', 'D'])\n",
      "('triangulo', ['A', 'C', 'D'])\n",
      "('triangulo', ['B', 'C', 'D'])\n",
      "('triangulo', ['A', 'B', 'C'])\n",
      "Número de triángulos: 4\n"
     ]
    }
   ],
   "source": [
    "triangulos_mult_ficheros(sc, ['g0.txt', 'g1.txt'])"
   ]
  },
  {
   "cell_type": "markdown",
   "metadata": {},
   "source": [
    "Finalmente, vemos que funciones funcionan:"
   ]
  },
  {
   "cell_type": "code",
   "execution_count": 21,
   "metadata": {},
   "outputs": [
    {
     "name": "stdout",
     "output_type": "stream",
     "text": [
      "('triangulo', ['A', 'B', 'C'])\n",
      "('triangulo', ['A', 'C', 'D'])\n",
      "('triangulo', ['B', 'C', 'D'])\n",
      "('triangulo', ['A', 'B', 'D'])\n",
      "Número de triángulos :4\n"
     ]
    }
   ],
   "source": [
    "triangulos2(sc, ['g0.txt','g1.txt'])"
   ]
  },
  {
   "cell_type": "code",
   "execution_count": 22,
   "metadata": {},
   "outputs": [
    {
     "name": "stdout",
     "output_type": "stream",
     "text": [
      "('triangulo', ['A', 'B', 'D'])\n",
      "('triangulo', ['A', 'C', 'D'])\n",
      "('triangulo', ['B', 'C', 'D'])\n",
      "('triangulo', ['A', 'B', 'C'])\n",
      "Número de triángulos: 4\n"
     ]
    }
   ],
   "source": [
    "triangulos1(sc,'g1.txt')"
   ]
  },
  {
   "cell_type": "code",
   "execution_count": 23,
   "metadata": {},
   "outputs": [
    {
     "name": "stdout",
     "output_type": "stream",
     "text": [
      "('triangulo', ['A', 'B', 'C'])\n",
      "Número de triángulos: 1\n"
     ]
    }
   ],
   "source": [
    "triangulos1(sc,'g0.txt')"
   ]
  }
 ],
 "metadata": {
  "kernelspec": {
   "display_name": "Python 3 (ipykernel)",
   "language": "python",
   "name": "python3"
  },
  "language_info": {
   "codemirror_mode": {
    "name": "ipython",
    "version": 3
   },
   "file_extension": ".py",
   "mimetype": "text/x-python",
   "name": "python",
   "nbconvert_exporter": "python",
   "pygments_lexer": "ipython3",
   "version": "3.8.8"
  }
 },
 "nbformat": 4,
 "nbformat_minor": 4
}
